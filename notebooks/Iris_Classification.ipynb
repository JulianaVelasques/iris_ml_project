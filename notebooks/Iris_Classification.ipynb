{
 "cells": [
  {
   "cell_type": "markdown",
   "id": "66e6bd2a-260f-4ecc-9eda-e1a0b5d2db80",
   "metadata": {},
   "source": [
    "# My first ML project"
   ]
  },
  {
   "cell_type": "markdown",
   "id": "17a1bff9-e4ae-407b-8236-d50dab0b1eff",
   "metadata": {},
   "source": [
    "## Imports"
   ]
  },
  {
   "cell_type": "code",
   "execution_count": 1,
   "id": "f660d352-d79b-4f01-bb24-daf8bb803769",
   "metadata": {},
   "outputs": [],
   "source": [
    "import pandas as pd\n",
    "# To visualize data\n",
    "from matplotlib import pyplot as plt\n",
    "# Models\n",
    "from sklearn.linear_model import LogisticRegression\n",
    "from sklearn.discriminant_analysis import LinearDiscriminantAnalysis\n",
    "from sklearn.neighbors import KNeighborsClassifier\n",
    "from sklearn.tree import DecisionTreeClassifier\n",
    "from sklearn.naive_bayes import GaussianNB\n",
    "from sklearn.svm import SVC\n",
    "#To choose the best model\n",
    "from sklearn.model_selection import StratifiedKFold\n",
    "from sklearn.model_selection import cross_val_score\n",
    "# To train and predict\n",
    "from sklearn.model_selection import train_test_split\n",
    "from sklearn.metrics import classification_report\n",
    "from sklearn.metrics import confusion_matrix\n",
    "from sklearn.metrics import accuracy_score\n"
   ]
  },
  {
   "cell_type": "markdown",
   "id": "b7ed90bb-7759-4f95-b8f9-a32d6c406cd2",
   "metadata": {},
   "source": [
    "## Loading the data\n",
    "To download the data from UCI Machine Learning Repository I used the following command in my macos terminal: </br>curl -o iris_dataset.csv https://archive.ics.uci.edu/ml/machine-learning-databases/iris/iris.data "
   ]
  },
  {
   "cell_type": "code",
   "execution_count": 2,
   "id": "a73dae43-91a1-4b60-8de3-518fcc9fd667",
   "metadata": {},
   "outputs": [],
   "source": [
    "iris_data = pd.read_csv('../data/iris_dataset.csv', header=None, names=['sepal_length', 'sepal_width', 'petal_length', 'petal_width', 'class'])"
   ]
  },
  {
   "cell_type": "markdown",
   "id": "0d27cea3-e4c7-42ba-bf09-2d77f2d7c570",
   "metadata": {},
   "source": [
    "### Summarize the Dataset\n",
    "Explore the data both with descriptive statistics and data visualization."
   ]
  },
  {
   "cell_type": "markdown",
   "id": "557c61b8-93d8-415a-9910-dde6b2234ee2",
   "metadata": {},
   "source": [
    "### Descriptive statistics\n",
    "Let's take  a look at the data:"
   ]
  },
  {
   "cell_type": "code",
   "execution_count": 3,
   "id": "31258387-af6b-40de-9fc0-9fe384f2f548",
   "metadata": {},
   "outputs": [
    {
     "data": {
      "text/html": [
       "<div>\n",
       "<style scoped>\n",
       "    .dataframe tbody tr th:only-of-type {\n",
       "        vertical-align: middle;\n",
       "    }\n",
       "\n",
       "    .dataframe tbody tr th {\n",
       "        vertical-align: top;\n",
       "    }\n",
       "\n",
       "    .dataframe thead th {\n",
       "        text-align: right;\n",
       "    }\n",
       "</style>\n",
       "<table border=\"1\" class=\"dataframe\">\n",
       "  <thead>\n",
       "    <tr style=\"text-align: right;\">\n",
       "      <th></th>\n",
       "      <th>sepal_length</th>\n",
       "      <th>sepal_width</th>\n",
       "      <th>petal_length</th>\n",
       "      <th>petal_width</th>\n",
       "      <th>class</th>\n",
       "    </tr>\n",
       "  </thead>\n",
       "  <tbody>\n",
       "    <tr>\n",
       "      <th>0</th>\n",
       "      <td>5.1</td>\n",
       "      <td>3.5</td>\n",
       "      <td>1.4</td>\n",
       "      <td>0.2</td>\n",
       "      <td>Iris-setosa</td>\n",
       "    </tr>\n",
       "    <tr>\n",
       "      <th>1</th>\n",
       "      <td>4.9</td>\n",
       "      <td>3.0</td>\n",
       "      <td>1.4</td>\n",
       "      <td>0.2</td>\n",
       "      <td>Iris-setosa</td>\n",
       "    </tr>\n",
       "    <tr>\n",
       "      <th>2</th>\n",
       "      <td>4.7</td>\n",
       "      <td>3.2</td>\n",
       "      <td>1.3</td>\n",
       "      <td>0.2</td>\n",
       "      <td>Iris-setosa</td>\n",
       "    </tr>\n",
       "    <tr>\n",
       "      <th>3</th>\n",
       "      <td>4.6</td>\n",
       "      <td>3.1</td>\n",
       "      <td>1.5</td>\n",
       "      <td>0.2</td>\n",
       "      <td>Iris-setosa</td>\n",
       "    </tr>\n",
       "    <tr>\n",
       "      <th>4</th>\n",
       "      <td>5.0</td>\n",
       "      <td>3.6</td>\n",
       "      <td>1.4</td>\n",
       "      <td>0.2</td>\n",
       "      <td>Iris-setosa</td>\n",
       "    </tr>\n",
       "  </tbody>\n",
       "</table>\n",
       "</div>"
      ],
      "text/plain": [
       "   sepal_length  sepal_width  petal_length  petal_width        class\n",
       "0           5.1          3.5           1.4          0.2  Iris-setosa\n",
       "1           4.9          3.0           1.4          0.2  Iris-setosa\n",
       "2           4.7          3.2           1.3          0.2  Iris-setosa\n",
       "3           4.6          3.1           1.5          0.2  Iris-setosa\n",
       "4           5.0          3.6           1.4          0.2  Iris-setosa"
      ]
     },
     "execution_count": 3,
     "metadata": {},
     "output_type": "execute_result"
    }
   ],
   "source": [
    "# Pick at the data\n",
    "iris_data.head()"
   ]
  },
  {
   "cell_type": "code",
   "execution_count": 4,
   "id": "65379f22-286c-4c6a-b079-6d757d0dba5b",
   "metadata": {},
   "outputs": [
    {
     "data": {
      "text/plain": [
       "(150, 5)"
      ]
     },
     "execution_count": 4,
     "metadata": {},
     "output_type": "execute_result"
    }
   ],
   "source": [
    "# Dimension of the Dataset\n",
    "iris_data.shape"
   ]
  },
  {
   "cell_type": "code",
   "execution_count": 5,
   "id": "47f1e7cd-d44a-4ace-bc6a-86f5cc8a5142",
   "metadata": {},
   "outputs": [
    {
     "data": {
      "text/html": [
       "<div>\n",
       "<style scoped>\n",
       "    .dataframe tbody tr th:only-of-type {\n",
       "        vertical-align: middle;\n",
       "    }\n",
       "\n",
       "    .dataframe tbody tr th {\n",
       "        vertical-align: top;\n",
       "    }\n",
       "\n",
       "    .dataframe thead th {\n",
       "        text-align: right;\n",
       "    }\n",
       "</style>\n",
       "<table border=\"1\" class=\"dataframe\">\n",
       "  <thead>\n",
       "    <tr style=\"text-align: right;\">\n",
       "      <th></th>\n",
       "      <th>sepal_length</th>\n",
       "      <th>sepal_width</th>\n",
       "      <th>petal_length</th>\n",
       "      <th>petal_width</th>\n",
       "    </tr>\n",
       "  </thead>\n",
       "  <tbody>\n",
       "    <tr>\n",
       "      <th>count</th>\n",
       "      <td>150.000000</td>\n",
       "      <td>150.000000</td>\n",
       "      <td>150.000000</td>\n",
       "      <td>150.000000</td>\n",
       "    </tr>\n",
       "    <tr>\n",
       "      <th>mean</th>\n",
       "      <td>5.843333</td>\n",
       "      <td>3.054000</td>\n",
       "      <td>3.758667</td>\n",
       "      <td>1.198667</td>\n",
       "    </tr>\n",
       "    <tr>\n",
       "      <th>std</th>\n",
       "      <td>0.828066</td>\n",
       "      <td>0.433594</td>\n",
       "      <td>1.764420</td>\n",
       "      <td>0.763161</td>\n",
       "    </tr>\n",
       "    <tr>\n",
       "      <th>min</th>\n",
       "      <td>4.300000</td>\n",
       "      <td>2.000000</td>\n",
       "      <td>1.000000</td>\n",
       "      <td>0.100000</td>\n",
       "    </tr>\n",
       "    <tr>\n",
       "      <th>25%</th>\n",
       "      <td>5.100000</td>\n",
       "      <td>2.800000</td>\n",
       "      <td>1.600000</td>\n",
       "      <td>0.300000</td>\n",
       "    </tr>\n",
       "    <tr>\n",
       "      <th>50%</th>\n",
       "      <td>5.800000</td>\n",
       "      <td>3.000000</td>\n",
       "      <td>4.350000</td>\n",
       "      <td>1.300000</td>\n",
       "    </tr>\n",
       "    <tr>\n",
       "      <th>75%</th>\n",
       "      <td>6.400000</td>\n",
       "      <td>3.300000</td>\n",
       "      <td>5.100000</td>\n",
       "      <td>1.800000</td>\n",
       "    </tr>\n",
       "    <tr>\n",
       "      <th>max</th>\n",
       "      <td>7.900000</td>\n",
       "      <td>4.400000</td>\n",
       "      <td>6.900000</td>\n",
       "      <td>2.500000</td>\n",
       "    </tr>\n",
       "  </tbody>\n",
       "</table>\n",
       "</div>"
      ],
      "text/plain": [
       "       sepal_length  sepal_width  petal_length  petal_width\n",
       "count    150.000000   150.000000    150.000000   150.000000\n",
       "mean       5.843333     3.054000      3.758667     1.198667\n",
       "std        0.828066     0.433594      1.764420     0.763161\n",
       "min        4.300000     2.000000      1.000000     0.100000\n",
       "25%        5.100000     2.800000      1.600000     0.300000\n",
       "50%        5.800000     3.000000      4.350000     1.300000\n",
       "75%        6.400000     3.300000      5.100000     1.800000\n",
       "max        7.900000     4.400000      6.900000     2.500000"
      ]
     },
     "execution_count": 5,
     "metadata": {},
     "output_type": "execute_result"
    }
   ],
   "source": [
    "# Statistical summary\n",
    "# print a summary of the data in Melbourne data\n",
    "iris_data.describe()"
   ]
  },
  {
   "cell_type": "code",
   "execution_count": 6,
   "id": "f1c486c0-2e90-4ebd-9186-9ba36edb54ca",
   "metadata": {
    "scrolled": true
   },
   "outputs": [
    {
     "data": {
      "text/plain": [
       "class\n",
       "Iris-setosa        50\n",
       "Iris-versicolor    50\n",
       "Iris-virginica     50\n",
       "dtype: int64"
      ]
     },
     "execution_count": 6,
     "metadata": {},
     "output_type": "execute_result"
    }
   ],
   "source": [
    "iris_data.groupby('class').size()"
   ]
  },
  {
   "cell_type": "markdown",
   "id": "2dda26c2-8bf4-44cb-b681-14f67aa30e31",
   "metadata": {},
   "source": [
    "### Data visualization\n",
    "We are going to look at two types of plots:\n",
    "\n",
    "1 - Univariate plots to better understand each attribute. </br>\n",
    "2 - Multivariate plots to better understand the relationships between attributes."
   ]
  },
  {
   "cell_type": "code",
   "execution_count": 7,
   "id": "64525eef-38c7-4d9a-a239-c4040c05e152",
   "metadata": {},
   "outputs": [
    {
     "data": {
      "image/png": "[encoded data removed]",
      "text/plain": [
       "<Figure size 640x480 with 4 Axes>"
      ]
     },
     "metadata": {},
     "output_type": "display_data"
    }
   ],
   "source": [
    "# Create a boxplot\n",
    "iris_data.plot(kind='box', subplots=True, layout=(2,2), sharex=False, sharey=False)\n",
    "plt.show()"
   ]
  },
  {
   "cell_type": "markdown",
   "id": "16aad74f-846f-4a43-a29e-b39f69bd9462",
   "metadata": {},
   "source": [
    "The shape of the boxplot shows how the data is distributed and it also shows any outliers. <br/>\n",
    "We can also create a histogram of each input variable to get an idea of the distribution."
   ]
  },
  {
   "cell_type": "code",
   "execution_count": 8,
   "id": "072c9619-65d1-4e51-9f73-d74e7fb74154",
   "metadata": {},
   "outputs": [
    {
     "data": {
      "image/png": "[encoded data removed]",
      "text/plain": [
       "<Figure size 640x480 with 4 Axes>"
      ]
     },
     "metadata": {},
     "output_type": "display_data"
    }
   ],
   "source": [
    "# histograms\n",
    "iris_data.hist()\n",
    "plt.show()"
   ]
  },
  {
   "cell_type": "markdown",
   "id": "043570c1-7dd4-4dee-a791-e420b224dddb",
   "metadata": {},
   "source": [
    "We can notice that at least two of the input variables respect the Gaussian Distribution. </br>\n",
    "This is good to notice because then we can choose a set of models that can fulfill this shape."
   ]
  },
  {
   "cell_type": "markdown",
   "id": "a4aaf76d-0ada-4b81-bb01-ef581ffbb992",
   "metadata": {},
   "source": [
    "## Evaluate Algorithms"
   ]
  },
  {
   "cell_type": "markdown",
   "id": "85e3499c-ee5f-4664-a2bb-a70e4aac519a",
   "metadata": {},
   "source": [
    "### Create a validation Dataset\n",
    "We will split the iris_data into two, 80% of which we will use to train, evaluate, and select among our models, and 20% that we will hold back as a validation dataset. </br>\n",
    "To split my data into training and testing sets in Python, I used scikit-learn, which provides convenient functions for this purpose: train_test_split."
   ]
  },
  {
   "cell_type": "code",
   "execution_count": 9,
   "id": "3f120719-596a-4867-b4d7-5ceeda97dc3a",
   "metadata": {},
   "outputs": [],
   "source": [
    "# Features (input variables)\n",
    "X = iris_data.drop('class', axis=1)\n",
    "\n",
    "# Target variable (output variable)\n",
    "y = iris_data['class']\n",
    "\n",
    "# Split the data\n",
    "X_train, X_test, y_train, y_test = train_test_split(X, y, test_size=0.2, random_state=1)"
   ]
  },
  {
   "cell_type": "code",
   "execution_count": 10,
   "id": "12f2df87-2227-4956-84dc-1338c71e847a",
   "metadata": {},
   "outputs": [
    {
     "name": "stdout",
     "output_type": "stream",
     "text": [
      "Training Data - X_train shape: (120, 4)  y_train shape: (120,)\n",
      "Testing Data - X_test shape: (30, 4)  y_test shape: (30,)\n"
     ]
    }
   ],
   "source": [
    "print(\"Training Data - X_train shape:\", X_train.shape, \" y_train shape:\", y_train.shape)\n",
    "print(\"Testing Data - X_test shape:\", X_test.shape, \" y_test shape:\", y_test.shape)"
   ]
  },
  {
   "cell_type": "markdown",
   "id": "f1631e16-b19e-4708-861a-ff0d6a611be5",
   "metadata": {},
   "source": [
    "### Build and evaluate the models\n",
    "We don’t know which algorithms would be good for this problem so we need to check in some different algorithms.\n",
    "\n",
    "Let’s test 6 of them:\n",
    "- Logistic Regression (LR)\n",
    "- Linear Discriminant Analysis (LDA)\n",
    "- K-Nearest Neighbors (KNN).\n",
    "- Classification and Regression Trees (CART).\n",
    "- Gaussian Naive Bayes (NB).\n",
    "- Support Vector Machines (SVM).\n",
    "\n",
    "\n",
    "This is a good mixture of simple linear (LR and LDA) and nonlinear (KNN, CART, NB and SVM) algorithms.\n",
    "\n"
   ]
  },
  {
   "cell_type": "markdown",
   "id": "85aa9d2b-c122-4f60-aec1-c5b4caab53d3",
   "metadata": {},
   "source": [
    "Below we will create a python dictionary with our algorithms so we can use it later:"
   ]
  },
  {
   "cell_type": "code",
   "execution_count": 11,
   "id": "f7f73b6d-be40-421a-bd8c-3678709b4d16",
   "metadata": {},
   "outputs": [],
   "source": [
    "# Create instances of classifiers\n",
    "classifiers = {\n",
    "    'LR': LogisticRegression(solver='liblinear', multi_class='ovr'),\n",
    "    'LDA': LinearDiscriminantAnalysis(),\n",
    "    'KNN': KNeighborsClassifier(),\n",
    "    'CART': DecisionTreeClassifier(),\n",
    "    'NB': GaussianNB(),\n",
    "    'SVM': SVC(gamma='auto')\n",
    "}"
   ]
  },
  {
   "cell_type": "markdown",
   "id": "ac7b0849-52f5-48a5-b641-ef1f43b69597",
   "metadata": {},
   "source": [
    "### K-Fold cross-validation\n",
    "Before testing our algorithms to know which one is the best fit for our dataset, we will use the K-Fold cross-validation technique to separate our dataset.\n",
    "\n",
    "- **K-Fold Cross-Validation**: is a technique used in ML to assess how well our model does on unseen data.\n",
    "\n",
    "Some benefits of using it:\n",
    "- **Small Dataset**: It is a really good approach especially because we have a small dataset. K-Fold Cross-Validation allows us to maximize the use of available data. It allows us to assess our model's performance from various perspectives without needing additional data;\n",
    "- **Model Comparison**: It allows us to use the same parts of the data for every model, so we can compare equally. We can apply the same cross-validation process to multiple models or settings and determine which one performs better on average."
   ]
  },
  {
   "cell_type": "code",
   "execution_count": 12,
   "id": "89c615eb-fc1b-49c5-bc00-ea6713c3511a",
   "metadata": {},
   "outputs": [
    {
     "name": "stdout",
     "output_type": "stream",
     "text": [
      "LR: Mean Accuracy = 0.94, Std Dev = 0.07\n",
      "LDA: Mean Accuracy = 0.97, Std Dev = 0.04\n",
      "KNN: Mean Accuracy = 0.96, Std Dev = 0.04\n",
      "CART: Mean Accuracy = 0.95, Std Dev = 0.04\n",
      "NB: Mean Accuracy = 0.95, Std Dev = 0.06\n",
      "SVM: Mean Accuracy = 0.98, Std Dev = 0.03\n"
     ]
    }
   ],
   "source": [
    "# Create a StratifiedKFold cross-validation object\n",
    "kfold = StratifiedKFold(n_splits=10, random_state=1, shuffle=True)\n",
    "\n",
    "results = []\n",
    "names = []\n",
    "\n",
    "# Train and evaluate each classifier\n",
    "for name, classifier in classifiers.items():\n",
    "    accuracy = cross_val_score(classifier, X_train, y_train, cv=kfold, scoring='accuracy')\n",
    "    results.append(accuracy)\n",
    "    names.append(name)\n",
    "    print(f'{name}: Mean Accuracy = {accuracy.mean():.2f}, Std Dev = {accuracy.std():.2f}')"
   ]
  },
  {
   "cell_type": "markdown",
   "id": "4a8196fd-36aa-44a5-845e-f79007e2837e",
   "metadata": {},
   "source": [
    "We can see that it looks like Support Vector Machines (SVM) has the largest estimated accuracy score at about 0.98 or 98%.\n",
    "\n",
    "Remember that we split our data in 10 times so for each model we have 10 accuracy results. So let's plot our results to better visualize the performance of each one:"
   ]
  },
  {
   "cell_type": "code",
   "execution_count": 13,
   "id": "a2836567-1ef1-47c7-8a5a-bd58c6559f69",
   "metadata": {},
   "outputs": [
    {
     "data": {
      "image/png": "[encoded data removed]",
      "text/plain": [
       "<Figure size 640x480 with 1 Axes>"
      ]
     },
     "metadata": {},
     "output_type": "display_data"
    }
   ],
   "source": [
    "# Compare Algorithms\n",
    "plt.boxplot(results, labels=names)\n",
    "plt.title('Algorithm Comparison')\n",
    "plt.show()"
   ]
  },
  {
   "cell_type": "markdown",
   "id": "9a565dc3-04c8-49ce-8131-078c5b64490e",
   "metadata": {},
   "source": [
    "So we are now sure that SVM is the best choice to fit our dataset. Let's make some predictions then."
   ]
  },
  {
   "cell_type": "markdown",
   "id": "ee6e5e78-1fc5-4947-ba46-cde070360b2d",
   "metadata": {},
   "source": [
    "## Make Predictions"
   ]
  },
  {
   "cell_type": "markdown",
   "id": "1260b14a-b95b-4d67-b4d2-b25c6e8c567a",
   "metadata": {},
   "source": [
    "Now we want to get an idea of the accuracy of the model on our test set."
   ]
  },
  {
   "cell_type": "code",
   "execution_count": 15,
   "id": "77e9bd65-78cf-4c10-b531-e5c082c2177c",
   "metadata": {},
   "outputs": [],
   "source": [
    "model = SVC(gamma='auto')\n",
    "model.fit(X_train, y_train)\n",
    "predictions = model.predict(X_test)"
   ]
  },
  {
   "cell_type": "markdown",
   "id": "acc45efe-1bfb-47ae-be3d-aed24f3fd61e",
   "metadata": {},
   "source": [
    "### Evaluate predictions\n",
    "Compare the expected results in the validation set with the predictions from our model, then calculate classification accuracy, as well as a confusion matrix and a classification report."
   ]
  },
  {
   "cell_type": "code",
   "execution_count": 16,
   "id": "6d7ede53-e597-43c7-b305-6457613d34de",
   "metadata": {},
   "outputs": [
    {
     "name": "stdout",
     "output_type": "stream",
     "text": [
      "0.9666666666666667\n",
      "[[11  0  0]\n",
      " [ 0 12  1]\n",
      " [ 0  0  6]]\n",
      "                 precision    recall  f1-score   support\n",
      "\n",
      "    Iris-setosa       1.00      1.00      1.00        11\n",
      "Iris-versicolor       1.00      0.92      0.96        13\n",
      " Iris-virginica       0.86      1.00      0.92         6\n",
      "\n",
      "       accuracy                           0.97        30\n",
      "      macro avg       0.95      0.97      0.96        30\n",
      "   weighted avg       0.97      0.97      0.97        30\n",
      "\n"
     ]
    }
   ],
   "source": [
    "# Evaluate predictions\n",
    "print(accuracy_score(y_test, predictions))\n",
    "print(confusion_matrix(y_test, predictions))\n",
    "print(classification_report(y_test, predictions))"
   ]
  },
  {
   "cell_type": "markdown",
   "id": "c960dfb1-cd8f-441b-8395-d678b4a0bd78",
   "metadata": {},
   "source": [
    "Here's what each of the metrics and results we print above means:\n",
    "\n",
    "- **Accuracy Score (0.967):** It means that our SVC model correctly classified about 96.7% of the test samples;\n",
    "- **Confusion Matrix:** The confusion matrix shows the number of true positive, true negative, false positive, and false negative predictions for each class. I have a 3x3 matrix for the three classes (Iris-setosa, Iris-versicolor, and Iris-virginica). We can read like this: I correctly classified 11 instances of Iris-setosa, 12 instances of Iris-versicolor, and 6 instances of Iris-virginica;\n",
    "- **Classification Report:** The classification report provides more detailed information, including precision, recall, and F1-score for each class, as well as the overall accuracy.\n",
    "  -  **Precision** measures the ability of the model to avoid false positives;\n",
    "  -  **Recall (or sensitivity)** measures the model's ability to correctly identify positive samples;\n",
    "  -  **F1-score** provides a balance between precision and recall.\n",
    "- For Iris-setosa, we achieved perfect precision, recall, and F1-score, it means that all Iris-setosa samples were correctly classified;\n",
    "- For Iris-versicolor, we had a slightly lower recall (0.92), suggesting that our model missed some instances. However, the precision (1.00) is excellent, indicating a low rate of false positives;\n",
    "- For Iris-virginica, we had a perfect recall, but a lower precision (0.86). This means that while the model correctly identified all Iris-virginica samples, there were a few false positives."
   ]
  },
  {
   "cell_type": "markdown",
   "id": "7770a3fa-21c3-45d4-85b4-aaadd07eb38a",
   "metadata": {},
   "source": [
    "## Further do\n",
    "\n",
    "Investigate the misclassifications for Iris-versicolor and Iris-virginica to understand the reasons behind them and potentially improve our model."
   ]
  }
 ],
 "metadata": {
  "kernelspec": {
   "display_name": "Python 3 (ipykernel)",
   "language": "python",
   "name": "python3"
  },
  "language_info": {
   "codemirror_mode": {
    "name": "ipython",
    "version": 3
   },
   "file_extension": ".py",
   "mimetype": "text/x-python",
   "name": "python",
   "nbconvert_exporter": "python",
   "pygments_lexer": "ipython3",
   "version": "3.9.6"
  }
 },
 "nbformat": 4,
 "nbformat_minor": 5
}
